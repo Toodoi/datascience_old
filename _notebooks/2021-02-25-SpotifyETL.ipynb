{
  "nbformat": 4,
  "nbformat_minor": 0,
  "metadata": {
    "colab": {
      "name": "2021-02-25-SpotifyETL.ipynb",
      "provenance": []
    },
    "kernelspec": {
      "name": "python3",
      "display_name": "Python 3"
    }
  },
  "cells": [
    {
      "cell_type": "code",
      "metadata": {
        "id": "iiPABE0CWUMp"
      },
      "source": [
        "#hide\r\n",
        "!pip install -Uqq fastbook\r\n",
        "import fastbook\r\n",
        "from fastbook import *\r\n",
        "import pandas as pd\r\n",
        "import matplotlib.pyplot as plt\r\n",
        "import numpy as np\r\n",
        "from ast import literal_eval\r\n",
        "from sklearn.preprocessing import MinMaxScaler"
      ],
      "execution_count": 1,
      "outputs": []
    },
    {
      "cell_type": "markdown",
      "metadata": {
        "id": "-hnW-lilXE1x"
      },
      "source": [
        "This notebook is where I uploaded and briefly played around with the data from my Spotify ETL project.\r\n",
        "\r\n",
        "This was a fun project I did to test the SpotifyAPI and see how well cosine similarity would work using audio track features that Spotify provides to determine how similar tracks are to each other.\r\n",
        "\r\n",
        "The project can be found on my GitHub at: https://github.com/Toodoi/Spotify-ETL-project.\r\n",
        "\r\n",
        "I downloaded 106 unique tracks using the SpotifyAPI and also downloaded a set of audio features for each track. The features are all "
      ]
    },
    {
      "cell_type": "code",
      "metadata": {
        "colab": {
          "base_uri": "https://localhost:8080/"
        },
        "id": "1EybOCMyNL7S",
        "outputId": "fb23f4c0-e50a-422c-f066-90a85b1461ec"
      },
      "source": [
        "#hide\r\n",
        "from google.colab import drive\r\n",
        "drive.mount('/content/drive')\r\n",
        "df = pd.read_csv('./drive/MyDrive/spotify_df')"
      ],
      "execution_count": 2,
      "outputs": [
        {
          "output_type": "stream",
          "text": [
            "Drive already mounted at /content/drive; to attempt to forcibly remount, call drive.mount(\"/content/drive\", force_remount=True).\n"
          ],
          "name": "stdout"
        }
      ]
    },
    {
      "cell_type": "code",
      "metadata": {
        "colab": {
          "base_uri": "https://localhost:8080/",
          "height": 241
        },
        "id": "O_iYC0HtOEXz",
        "outputId": "d8e5d8a7-8a18-42ae-bf29-af64596ee4a4"
      },
      "source": [
        "df.head()"
      ],
      "execution_count": 3,
      "outputs": [
        {
          "output_type": "execute_result",
          "data": {
            "text/html": [
              "<div>\n",
              "<style scoped>\n",
              "    .dataframe tbody tr th:only-of-type {\n",
              "        vertical-align: middle;\n",
              "    }\n",
              "\n",
              "    .dataframe tbody tr th {\n",
              "        vertical-align: top;\n",
              "    }\n",
              "\n",
              "    .dataframe thead th {\n",
              "        text-align: right;\n",
              "    }\n",
              "</style>\n",
              "<table border=\"1\" class=\"dataframe\">\n",
              "  <thead>\n",
              "    <tr style=\"text-align: right;\">\n",
              "      <th></th>\n",
              "      <th>tracks</th>\n",
              "      <th>artists</th>\n",
              "      <th>ids</th>\n",
              "      <th>danceability</th>\n",
              "      <th>energy</th>\n",
              "      <th>key</th>\n",
              "      <th>loudness</th>\n",
              "      <th>mode</th>\n",
              "      <th>speechiness</th>\n",
              "      <th>acousticness</th>\n",
              "      <th>instrumentalness</th>\n",
              "      <th>liveness</th>\n",
              "      <th>valence</th>\n",
              "      <th>tempo</th>\n",
              "      <th>feature_vector</th>\n",
              "    </tr>\n",
              "  </thead>\n",
              "  <tbody>\n",
              "    <tr>\n",
              "      <th>0</th>\n",
              "      <td>Norf Norf</td>\n",
              "      <td>Vince Staples</td>\n",
              "      <td>4uQ7wYsuL0DryknoDc11Hk</td>\n",
              "      <td>0.925</td>\n",
              "      <td>0.549</td>\n",
              "      <td>7.0</td>\n",
              "      <td>-6.572</td>\n",
              "      <td>1.0</td>\n",
              "      <td>0.0656</td>\n",
              "      <td>0.39600</td>\n",
              "      <td>0.000154</td>\n",
              "      <td>0.1100</td>\n",
              "      <td>0.0904</td>\n",
              "      <td>100.014</td>\n",
              "      <td>[0.925, 0.549, 7, -6.572, 1, 0.0656, 0.396, 0.000154, 0.11, 0.0904, 100.014]</td>\n",
              "    </tr>\n",
              "    <tr>\n",
              "      <th>1</th>\n",
              "      <td>UN DIA (ONE DAY) (Feat. Tainy)</td>\n",
              "      <td>J Balvin</td>\n",
              "      <td>0EhpEsp4L0oRGM0vmeaN5e</td>\n",
              "      <td>0.571</td>\n",
              "      <td>0.693</td>\n",
              "      <td>6.0</td>\n",
              "      <td>-8.234</td>\n",
              "      <td>0.0</td>\n",
              "      <td>0.0545</td>\n",
              "      <td>0.00536</td>\n",
              "      <td>0.000000</td>\n",
              "      <td>0.1730</td>\n",
              "      <td>0.3930</td>\n",
              "      <td>168.169</td>\n",
              "      <td>[0.571, 0.693, 6, -8.234, 0, 0.0545, 0.00536, 0, 0.173, 0.393, 168.169]</td>\n",
              "    </tr>\n",
              "    <tr>\n",
              "      <th>2</th>\n",
              "      <td>Prisoner (feat. Dua Lipa)</td>\n",
              "      <td>Miley Cyrus</td>\n",
              "      <td>2Oycxb8QbPkpHTo8ZrmG0B</td>\n",
              "      <td>0.781</td>\n",
              "      <td>0.670</td>\n",
              "      <td>3.0</td>\n",
              "      <td>-3.912</td>\n",
              "      <td>0.0</td>\n",
              "      <td>0.0452</td>\n",
              "      <td>0.01030</td>\n",
              "      <td>0.000000</td>\n",
              "      <td>0.0761</td>\n",
              "      <td>0.5950</td>\n",
              "      <td>127.990</td>\n",
              "      <td>[0.781, 0.67, 3, -3.912, 0, 0.0452, 0.0103, 0, 0.0761, 0.595, 127.99]</td>\n",
              "    </tr>\n",
              "    <tr>\n",
              "      <th>3</th>\n",
              "      <td>Levitating (feat. DaBaby)</td>\n",
              "      <td>Dua Lipa</td>\n",
              "      <td>5nujrmhLynf4yMoMtj8AQF</td>\n",
              "      <td>0.702</td>\n",
              "      <td>0.825</td>\n",
              "      <td>6.0</td>\n",
              "      <td>-3.787</td>\n",
              "      <td>0.0</td>\n",
              "      <td>0.0601</td>\n",
              "      <td>0.00883</td>\n",
              "      <td>0.000000</td>\n",
              "      <td>0.0674</td>\n",
              "      <td>0.9150</td>\n",
              "      <td>102.977</td>\n",
              "      <td>[0.702, 0.825, 6, -3.787, 0, 0.0601, 0.00883, 0, 0.0674, 0.915, 102.977]</td>\n",
              "    </tr>\n",
              "    <tr>\n",
              "      <th>4</th>\n",
              "      <td>Selfless</td>\n",
              "      <td>The Strokes</td>\n",
              "      <td>2t0wwvR15fc3K1ey8OiOaN</td>\n",
              "      <td>0.538</td>\n",
              "      <td>0.679</td>\n",
              "      <td>4.0</td>\n",
              "      <td>-4.297</td>\n",
              "      <td>1.0</td>\n",
              "      <td>0.0333</td>\n",
              "      <td>0.19100</td>\n",
              "      <td>0.001750</td>\n",
              "      <td>0.0889</td>\n",
              "      <td>0.0888</td>\n",
              "      <td>121.990</td>\n",
              "      <td>[0.538, 0.679, 4, -4.297, 1, 0.0333, 0.191, 0.00175, 0.0889, 0.0888, 121.99]</td>\n",
              "    </tr>\n",
              "  </tbody>\n",
              "</table>\n",
              "</div>"
            ],
            "text/plain": [
              "                           tracks        artists                     ids  \\\n",
              "0                       Norf Norf  Vince Staples  4uQ7wYsuL0DryknoDc11Hk   \n",
              "1  UN DIA (ONE DAY) (Feat. Tainy)       J Balvin  0EhpEsp4L0oRGM0vmeaN5e   \n",
              "2       Prisoner (feat. Dua Lipa)    Miley Cyrus  2Oycxb8QbPkpHTo8ZrmG0B   \n",
              "3       Levitating (feat. DaBaby)       Dua Lipa  5nujrmhLynf4yMoMtj8AQF   \n",
              "4                        Selfless    The Strokes  2t0wwvR15fc3K1ey8OiOaN   \n",
              "\n",
              "   danceability  energy  key  loudness  mode  speechiness  acousticness  \\\n",
              "0         0.925   0.549  7.0    -6.572   1.0       0.0656       0.39600   \n",
              "1         0.571   0.693  6.0    -8.234   0.0       0.0545       0.00536   \n",
              "2         0.781   0.670  3.0    -3.912   0.0       0.0452       0.01030   \n",
              "3         0.702   0.825  6.0    -3.787   0.0       0.0601       0.00883   \n",
              "4         0.538   0.679  4.0    -4.297   1.0       0.0333       0.19100   \n",
              "\n",
              "   instrumentalness  liveness  valence    tempo  \\\n",
              "0          0.000154    0.1100   0.0904  100.014   \n",
              "1          0.000000    0.1730   0.3930  168.169   \n",
              "2          0.000000    0.0761   0.5950  127.990   \n",
              "3          0.000000    0.0674   0.9150  102.977   \n",
              "4          0.001750    0.0889   0.0888  121.990   \n",
              "\n",
              "                                                                 feature_vector  \n",
              "0  [0.925, 0.549, 7, -6.572, 1, 0.0656, 0.396, 0.000154, 0.11, 0.0904, 100.014]  \n",
              "1       [0.571, 0.693, 6, -8.234, 0, 0.0545, 0.00536, 0, 0.173, 0.393, 168.169]  \n",
              "2         [0.781, 0.67, 3, -3.912, 0, 0.0452, 0.0103, 0, 0.0761, 0.595, 127.99]  \n",
              "3      [0.702, 0.825, 6, -3.787, 0, 0.0601, 0.00883, 0, 0.0674, 0.915, 102.977]  \n",
              "4  [0.538, 0.679, 4, -4.297, 1, 0.0333, 0.191, 0.00175, 0.0889, 0.0888, 121.99]  "
            ]
          },
          "metadata": {
            "tags": []
          },
          "execution_count": 3
        }
      ]
    },
    {
      "cell_type": "markdown",
      "metadata": {
        "id": "-bNbuPEiZTJ3"
      },
      "source": [
        "I dropped some of audio features because they seemed uninteresting or had extremly unimodal distributions so they would not add much to differentiating the vectors for cosine similarity testing. I also dropped duplicates and some tracks which couldn't pick up audio features from the API."
      ]
    },
    {
      "cell_type": "code",
      "metadata": {
        "id": "Ivl3kz6dOMOq"
      },
      "source": [
        "df = df.drop(['mode', 'instrumentalness', 'speechiness', 'liveness'], axis=1)\r\n",
        "df = df.drop_duplicates('tracks')\r\n",
        "df = df.drop(df.index[106:114])"
      ],
      "execution_count": 4,
      "outputs": []
    },
    {
      "cell_type": "code",
      "metadata": {
        "colab": {
          "base_uri": "https://localhost:8080/",
          "height": 392
        },
        "id": "GnuqgVTJ_FzV",
        "outputId": "d34beaac-dcae-4377-8eba-5ac7af0e31c5"
      },
      "source": [
        "df"
      ],
      "execution_count": 5,
      "outputs": [
        {
          "output_type": "execute_result",
          "data": {
            "text/html": [
              "<div>\n",
              "<style scoped>\n",
              "    .dataframe tbody tr th:only-of-type {\n",
              "        vertical-align: middle;\n",
              "    }\n",
              "\n",
              "    .dataframe tbody tr th {\n",
              "        vertical-align: top;\n",
              "    }\n",
              "\n",
              "    .dataframe thead th {\n",
              "        text-align: right;\n",
              "    }\n",
              "</style>\n",
              "<table border=\"1\" class=\"dataframe\">\n",
              "  <thead>\n",
              "    <tr style=\"text-align: right;\">\n",
              "      <th></th>\n",
              "      <th>tracks</th>\n",
              "      <th>artists</th>\n",
              "      <th>ids</th>\n",
              "      <th>danceability</th>\n",
              "      <th>energy</th>\n",
              "      <th>key</th>\n",
              "      <th>loudness</th>\n",
              "      <th>acousticness</th>\n",
              "      <th>valence</th>\n",
              "      <th>tempo</th>\n",
              "      <th>feature_vector</th>\n",
              "    </tr>\n",
              "  </thead>\n",
              "  <tbody>\n",
              "    <tr>\n",
              "      <th>0</th>\n",
              "      <td>Norf Norf</td>\n",
              "      <td>Vince Staples</td>\n",
              "      <td>4uQ7wYsuL0DryknoDc11Hk</td>\n",
              "      <td>0.925</td>\n",
              "      <td>0.549</td>\n",
              "      <td>7.0</td>\n",
              "      <td>-6.572</td>\n",
              "      <td>0.39600</td>\n",
              "      <td>0.0904</td>\n",
              "      <td>100.014</td>\n",
              "      <td>[0.925, 0.549, 7, -6.572, 1, 0.0656, 0.396, 0.000154, 0.11, 0.0904, 100.014]</td>\n",
              "    </tr>\n",
              "    <tr>\n",
              "      <th>1</th>\n",
              "      <td>UN DIA (ONE DAY) (Feat. Tainy)</td>\n",
              "      <td>J Balvin</td>\n",
              "      <td>0EhpEsp4L0oRGM0vmeaN5e</td>\n",
              "      <td>0.571</td>\n",
              "      <td>0.693</td>\n",
              "      <td>6.0</td>\n",
              "      <td>-8.234</td>\n",
              "      <td>0.00536</td>\n",
              "      <td>0.3930</td>\n",
              "      <td>168.169</td>\n",
              "      <td>[0.571, 0.693, 6, -8.234, 0, 0.0545, 0.00536, 0, 0.173, 0.393, 168.169]</td>\n",
              "    </tr>\n",
              "    <tr>\n",
              "      <th>2</th>\n",
              "      <td>Prisoner (feat. Dua Lipa)</td>\n",
              "      <td>Miley Cyrus</td>\n",
              "      <td>2Oycxb8QbPkpHTo8ZrmG0B</td>\n",
              "      <td>0.781</td>\n",
              "      <td>0.670</td>\n",
              "      <td>3.0</td>\n",
              "      <td>-3.912</td>\n",
              "      <td>0.01030</td>\n",
              "      <td>0.5950</td>\n",
              "      <td>127.990</td>\n",
              "      <td>[0.781, 0.67, 3, -3.912, 0, 0.0452, 0.0103, 0, 0.0761, 0.595, 127.99]</td>\n",
              "    </tr>\n",
              "    <tr>\n",
              "      <th>3</th>\n",
              "      <td>Levitating (feat. DaBaby)</td>\n",
              "      <td>Dua Lipa</td>\n",
              "      <td>5nujrmhLynf4yMoMtj8AQF</td>\n",
              "      <td>0.702</td>\n",
              "      <td>0.825</td>\n",
              "      <td>6.0</td>\n",
              "      <td>-3.787</td>\n",
              "      <td>0.00883</td>\n",
              "      <td>0.9150</td>\n",
              "      <td>102.977</td>\n",
              "      <td>[0.702, 0.825, 6, -3.787, 0, 0.0601, 0.00883, 0, 0.0674, 0.915, 102.977]</td>\n",
              "    </tr>\n",
              "    <tr>\n",
              "      <th>4</th>\n",
              "      <td>Selfless</td>\n",
              "      <td>The Strokes</td>\n",
              "      <td>2t0wwvR15fc3K1ey8OiOaN</td>\n",
              "      <td>0.538</td>\n",
              "      <td>0.679</td>\n",
              "      <td>4.0</td>\n",
              "      <td>-4.297</td>\n",
              "      <td>0.19100</td>\n",
              "      <td>0.0888</td>\n",
              "      <td>121.990</td>\n",
              "      <td>[0.538, 0.679, 4, -4.297, 1, 0.0333, 0.191, 0.00175, 0.0889, 0.0888, 121.99]</td>\n",
              "    </tr>\n",
              "    <tr>\n",
              "      <th>...</th>\n",
              "      <td>...</td>\n",
              "      <td>...</td>\n",
              "      <td>...</td>\n",
              "      <td>...</td>\n",
              "      <td>...</td>\n",
              "      <td>...</td>\n",
              "      <td>...</td>\n",
              "      <td>...</td>\n",
              "      <td>...</td>\n",
              "      <td>...</td>\n",
              "      <td>...</td>\n",
              "    </tr>\n",
              "    <tr>\n",
              "      <th>101</th>\n",
              "      <td>I Follow Rivers - The Magician Remix</td>\n",
              "      <td>Lykke Li</td>\n",
              "      <td>4Jv7lweGIUOFQ7Oq2AtAh9</td>\n",
              "      <td>0.786</td>\n",
              "      <td>0.696</td>\n",
              "      <td>9.0</td>\n",
              "      <td>-5.796</td>\n",
              "      <td>0.02340</td>\n",
              "      <td>0.3060</td>\n",
              "      <td>121.974</td>\n",
              "      <td>[0.786, 0.696, 9, -5.796, 0, 0.0428, 0.0234, 0.0019, 0.0839, 0.306, 121.974]</td>\n",
              "    </tr>\n",
              "    <tr>\n",
              "      <th>102</th>\n",
              "      <td>Teenage Crime</td>\n",
              "      <td>Adrian Lux</td>\n",
              "      <td>46LTPfvrxlgNLyIGBup4O2</td>\n",
              "      <td>0.647</td>\n",
              "      <td>0.843</td>\n",
              "      <td>2.0</td>\n",
              "      <td>-4.801</td>\n",
              "      <td>0.01920</td>\n",
              "      <td>0.3280</td>\n",
              "      <td>128.015</td>\n",
              "      <td>[0.647, 0.843, 2, -4.801, 1, 0.0364, 0.0192, 0.686, 0.104, 0.328, 128.015]</td>\n",
              "    </tr>\n",
              "    <tr>\n",
              "      <th>103</th>\n",
              "      <td>Embrace</td>\n",
              "      <td>PNAU</td>\n",
              "      <td>4dns9UEYXX2BTPHK6BGQ2M</td>\n",
              "      <td>0.638</td>\n",
              "      <td>0.955</td>\n",
              "      <td>6.0</td>\n",
              "      <td>-4.008</td>\n",
              "      <td>0.00275</td>\n",
              "      <td>0.4150</td>\n",
              "      <td>127.988</td>\n",
              "      <td>[0.638, 0.955, 6, -4.008, 0, 0.0405, 0.00275, 0.000379, 0.223, 0.415, 127.988]</td>\n",
              "    </tr>\n",
              "    <tr>\n",
              "      <th>104</th>\n",
              "      <td>Stand by Me</td>\n",
              "      <td>Oasis</td>\n",
              "      <td>2gANywSFYF58YFMPdDSAjC</td>\n",
              "      <td>0.214</td>\n",
              "      <td>0.828</td>\n",
              "      <td>7.0</td>\n",
              "      <td>-2.660</td>\n",
              "      <td>0.01420</td>\n",
              "      <td>0.3880</td>\n",
              "      <td>169.876</td>\n",
              "      <td>[0.214, 0.828, 7, -2.66, 1, 0.0383, 0.0142, 1.61e-06, 0.161, 0.388, 169.876]</td>\n",
              "    </tr>\n",
              "    <tr>\n",
              "      <th>105</th>\n",
              "      <td>Youth</td>\n",
              "      <td>Glass Animals</td>\n",
              "      <td>1LPGwuFgIzbJoShfDdw7MY</td>\n",
              "      <td>0.648</td>\n",
              "      <td>0.718</td>\n",
              "      <td>9.0</td>\n",
              "      <td>-7.765</td>\n",
              "      <td>0.12900</td>\n",
              "      <td>0.7850</td>\n",
              "      <td>96.017</td>\n",
              "      <td>[0.648, 0.718, 9, -7.765, 0, 0.0298, 0.129, 0.00156, 0.112, 0.785, 96.017]</td>\n",
              "    </tr>\n",
              "  </tbody>\n",
              "</table>\n",
              "<p>106 rows × 11 columns</p>\n",
              "</div>"
            ],
            "text/plain": [
              "                                   tracks        artists  \\\n",
              "0                               Norf Norf  Vince Staples   \n",
              "1          UN DIA (ONE DAY) (Feat. Tainy)       J Balvin   \n",
              "2               Prisoner (feat. Dua Lipa)    Miley Cyrus   \n",
              "3               Levitating (feat. DaBaby)       Dua Lipa   \n",
              "4                                Selfless    The Strokes   \n",
              "..                                    ...            ...   \n",
              "101  I Follow Rivers - The Magician Remix       Lykke Li   \n",
              "102                         Teenage Crime     Adrian Lux   \n",
              "103                               Embrace           PNAU   \n",
              "104                           Stand by Me          Oasis   \n",
              "105                                 Youth  Glass Animals   \n",
              "\n",
              "                        ids  danceability  energy  key  loudness  \\\n",
              "0    4uQ7wYsuL0DryknoDc11Hk         0.925   0.549  7.0    -6.572   \n",
              "1    0EhpEsp4L0oRGM0vmeaN5e         0.571   0.693  6.0    -8.234   \n",
              "2    2Oycxb8QbPkpHTo8ZrmG0B         0.781   0.670  3.0    -3.912   \n",
              "3    5nujrmhLynf4yMoMtj8AQF         0.702   0.825  6.0    -3.787   \n",
              "4    2t0wwvR15fc3K1ey8OiOaN         0.538   0.679  4.0    -4.297   \n",
              "..                      ...           ...     ...  ...       ...   \n",
              "101  4Jv7lweGIUOFQ7Oq2AtAh9         0.786   0.696  9.0    -5.796   \n",
              "102  46LTPfvrxlgNLyIGBup4O2         0.647   0.843  2.0    -4.801   \n",
              "103  4dns9UEYXX2BTPHK6BGQ2M         0.638   0.955  6.0    -4.008   \n",
              "104  2gANywSFYF58YFMPdDSAjC         0.214   0.828  7.0    -2.660   \n",
              "105  1LPGwuFgIzbJoShfDdw7MY         0.648   0.718  9.0    -7.765   \n",
              "\n",
              "     acousticness  valence    tempo  \\\n",
              "0         0.39600   0.0904  100.014   \n",
              "1         0.00536   0.3930  168.169   \n",
              "2         0.01030   0.5950  127.990   \n",
              "3         0.00883   0.9150  102.977   \n",
              "4         0.19100   0.0888  121.990   \n",
              "..            ...      ...      ...   \n",
              "101       0.02340   0.3060  121.974   \n",
              "102       0.01920   0.3280  128.015   \n",
              "103       0.00275   0.4150  127.988   \n",
              "104       0.01420   0.3880  169.876   \n",
              "105       0.12900   0.7850   96.017   \n",
              "\n",
              "                                                                     feature_vector  \n",
              "0      [0.925, 0.549, 7, -6.572, 1, 0.0656, 0.396, 0.000154, 0.11, 0.0904, 100.014]  \n",
              "1           [0.571, 0.693, 6, -8.234, 0, 0.0545, 0.00536, 0, 0.173, 0.393, 168.169]  \n",
              "2             [0.781, 0.67, 3, -3.912, 0, 0.0452, 0.0103, 0, 0.0761, 0.595, 127.99]  \n",
              "3          [0.702, 0.825, 6, -3.787, 0, 0.0601, 0.00883, 0, 0.0674, 0.915, 102.977]  \n",
              "4      [0.538, 0.679, 4, -4.297, 1, 0.0333, 0.191, 0.00175, 0.0889, 0.0888, 121.99]  \n",
              "..                                                                              ...  \n",
              "101    [0.786, 0.696, 9, -5.796, 0, 0.0428, 0.0234, 0.0019, 0.0839, 0.306, 121.974]  \n",
              "102      [0.647, 0.843, 2, -4.801, 1, 0.0364, 0.0192, 0.686, 0.104, 0.328, 128.015]  \n",
              "103  [0.638, 0.955, 6, -4.008, 0, 0.0405, 0.00275, 0.000379, 0.223, 0.415, 127.988]  \n",
              "104    [0.214, 0.828, 7, -2.66, 1, 0.0383, 0.0142, 1.61e-06, 0.161, 0.388, 169.876]  \n",
              "105      [0.648, 0.718, 9, -7.765, 0, 0.0298, 0.129, 0.00156, 0.112, 0.785, 96.017]  \n",
              "\n",
              "[106 rows x 11 columns]"
            ]
          },
          "metadata": {
            "tags": []
          },
          "execution_count": 5
        }
      ]
    },
    {
      "cell_type": "code",
      "metadata": {
        "colab": {
          "base_uri": "https://localhost:8080/",
          "height": 280
        },
        "id": "XOd1bn4QWFlD",
        "outputId": "e2cc0bb7-7ae6-4163-b7ba-f3c8113464b6"
      },
      "source": [
        "df.hist()\r\n",
        "plt.show()"
      ],
      "execution_count": 6,
      "outputs": [
        {
          "output_type": "display_data",
          "data": {
            "image/png": "[encoded data removed]",
            "text/plain": [
              "<Figure size 432x288 with 9 Axes>"
            ]
          },
          "metadata": {
            "tags": [],
            "needs_background": "light"
          }
        }
      ]
    },
    {
      "cell_type": "markdown",
      "metadata": {
        "id": "o5Se5JDaaDKp"
      },
      "source": [
        "The math for cosine similarity is just the dot product of the two vectors divided by the product of the magnitude of each vector."
      ]
    },
    {
      "cell_type": "code",
      "metadata": {
        "id": "e-qeJgTvWIGx"
      },
      "source": [
        "def cos_sim(a, b):\r\n",
        "    dot_product = np.dot(a, b)\r\n",
        "    norm_a = np.linalg.norm(a)\r\n",
        "    norm_b = np.linalg.norm(b)\r\n",
        "    \r\n",
        "    return dot_product / (norm_a * norm_b)"
      ],
      "execution_count": 7,
      "outputs": []
    },
    {
      "cell_type": "code",
      "metadata": {
        "id": "swivheOcX9Wf"
      },
      "source": [
        "# Normalize features\r\n",
        "features = df[['danceability', 'energy', 'key', 'loudness', 'acousticness', 'valence', 'tempo']]\r\n",
        "norm = MinMaxScaler().fit(features)\r\n",
        "vec_norm = norm.transform(features)"
      ],
      "execution_count": 8,
      "outputs": []
    },
    {
      "cell_type": "code",
      "metadata": {
        "id": "gAjXkwTAX_4w"
      },
      "source": [
        "sim_list = []\r\n",
        "idx_list = []\r\n",
        "\r\n",
        "for first_vector in range(0, 106):\r\n",
        "    for second_vector in range(first_vector, 105):\r\n",
        "        sim = cos_sim(vec_norm[first_vector], vec_norm[second_vector+1])\r\n",
        "        sim_list.append(sim)\r\n",
        "        idx_list.append((first_vector,second_vector+1))\r\n",
        "\r\n",
        "df_sim = pd.DataFrame({'Similarity' : sim_list, 'Indexes': idx_list})"
      ],
      "execution_count": 9,
      "outputs": []
    },
    {
      "cell_type": "markdown",
      "metadata": {
        "id": "tZBNq8fNbHnt"
      },
      "source": [
        "There were 5,565 similarity pairs calculated and the distribution is plotted below. For cosine similarity, the value can range between 0 and 1 depending on the angle which indicates how similar two vectors are to each other."
      ]
    },
    {
      "cell_type": "code",
      "metadata": {
        "colab": {
          "base_uri": "https://localhost:8080/",
          "height": 265
        },
        "id": "QLPKI9nUYF7d",
        "outputId": "687235b4-da95-415b-ed4f-a6dc825ac90e"
      },
      "source": [
        "df_sim.Similarity.hist()\r\n",
        "plt.show()"
      ],
      "execution_count": 10,
      "outputs": [
        {
          "output_type": "display_data",
          "data": {
            "image/png": "[encoded data removed]",
            "text/plain": [
              "<Figure size 432x288 with 1 Axes>"
            ]
          },
          "metadata": {
            "tags": [],
            "needs_background": "light"
          }
        }
      ]
    },
    {
      "cell_type": "code",
      "metadata": {
        "colab": {
          "base_uri": "https://localhost:8080/"
        },
        "id": "tjAIcLCqYZYf",
        "outputId": "688b820b-638e-4158-cb99-d2ee7c71f301"
      },
      "source": [
        "len(sim_list)"
      ],
      "execution_count": 11,
      "outputs": [
        {
          "output_type": "execute_result",
          "data": {
            "text/plain": [
              "5565"
            ]
          },
          "metadata": {
            "tags": []
          },
          "execution_count": 11
        }
      ]
    },
    {
      "cell_type": "code",
      "metadata": {
        "id": "y0S0K7IRbGWj"
      },
      "source": [
        ""
      ],
      "execution_count": null,
      "outputs": []
    }
  ]
}