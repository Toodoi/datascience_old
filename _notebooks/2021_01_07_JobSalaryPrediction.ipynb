{
  "nbformat": 4,
  "nbformat_minor": 0,
  "metadata": {
    "colab": {
      "name": "2021-01-07-JobSalaryPrediction.ipynb",
      "provenance": [],
      "collapsed_sections": []
    },
    "kernelspec": {
      "name": "python3",
      "display_name": "Python 3"
    },
    "accelerator": "GPU"
  },
  "cells": [
    {
      "cell_type": "code",
      "metadata": {
        "id": "tOWaPPDIOEua"
      },
      "source": [
        "# \"Job Salary Prediction\"\r\n",
        "> Building a model to predict salaries based on text data\r\n",
        "\r\n",
        "- hide: true\r\n",
        "- toc: false\r\n",
        "- badges: false\r\n",
        "- comments: true\r\n",
        "- author: Todd Hoy\r\n",
        "- categories: []"
      ],
      "execution_count": null,
      "outputs": []
    },
    {
      "cell_type": "markdown",
      "metadata": {
        "id": "dJZ2qG33sKhi"
      },
      "source": [
        "# Job Salary Prediction\r\n",
        "This is a quick notebook detailing a model I built for a Kaggle competition from 2013 where Adzuna asked entrants to predict job salaries based on a dataset they supplied. This is the first model I have built which relies solely on text data which provided a good experience for working on messy data that required a lot of feature engineering.\r\n",
        "\r\n",
        "The first few rows of the DataFrame are displayed below with summary statistics. SalaryNormalized is the variable to be predicted."
      ]
    },
    {
      "cell_type": "code",
      "metadata": {
        "id": "4ib-bluafTIa"
      },
      "source": [
        "#hide\r\n",
        "import pandas as pd\r\n",
        "from fastai.tabular.all import *\r\n",
        "from sklearn.ensemble import RandomForestRegressor\r\n",
        "from sklearn.tree import DecisionTreeRegressor\r\n",
        "from sklearn.metrics import mean_squared_error, mean_absolute_error"
      ],
      "execution_count": 1,
      "outputs": []
    },
    {
      "cell_type": "code",
      "metadata": {
        "colab": {
          "base_uri": "https://localhost:8080/"
        },
        "id": "ZZ88_OKVSdjU",
        "outputId": "a3ab9c9f-957c-4d2a-e72f-baf6717466e9"
      },
      "source": [
        "#hide\r\n",
        "from google.colab import drive\r\n",
        "drive.mount('/content/drive')"
      ],
      "execution_count": 2,
      "outputs": [
        {
          "output_type": "stream",
          "text": [
            "Drive already mounted at /content/drive; to attempt to forcibly remount, call drive.mount(\"/content/drive\", force_remount=True).\n"
          ],
          "name": "stdout"
        }
      ]
    },
    {
      "cell_type": "code",
      "metadata": {
        "id": "DBHk9TvwSkPr"
      },
      "source": [
        "#hide\r\n",
        "with open('/content/drive/My Drive/Train_reesby.csv') as f:\r\n",
        "  df = pd.read_csv(f)\r\n",
        "df = df.drop(columns=['SalaryRaw', 'LocationRaw'])"
      ],
      "execution_count": 3,
      "outputs": []
    },
    {
      "cell_type": "code",
      "metadata": {
        "colab": {
          "base_uri": "https://localhost:8080/",
          "height": 409
        },
        "id": "0tHrNhk2fGwn",
        "outputId": "253a39a8-89ff-4608-b6ba-362443f620fb"
      },
      "source": [
        "df.head()"
      ],
      "execution_count": 4,
      "outputs": [
        {
          "output_type": "execute_result",
          "data": {
            "text/html": [
              "<div>\n",
              "<style scoped>\n",
              "    .dataframe tbody tr th:only-of-type {\n",
              "        vertical-align: middle;\n",
              "    }\n",
              "\n",
              "    .dataframe tbody tr th {\n",
              "        vertical-align: top;\n",
              "    }\n",
              "\n",
              "    .dataframe thead th {\n",
              "        text-align: right;\n",
              "    }\n",
              "</style>\n",
              "<table border=\"1\" class=\"dataframe\">\n",
              "  <thead>\n",
              "    <tr style=\"text-align: right;\">\n",
              "      <th></th>\n",
              "      <th>Id</th>\n",
              "      <th>Title</th>\n",
              "      <th>FullDescription</th>\n",
              "      <th>LocationNormalized</th>\n",
              "      <th>ContractType</th>\n",
              "      <th>ContractTime</th>\n",
              "      <th>Company</th>\n",
              "      <th>Category</th>\n",
              "      <th>SalaryNormalized</th>\n",
              "      <th>SourceName</th>\n",
              "    </tr>\n",
              "  </thead>\n",
              "  <tbody>\n",
              "    <tr>\n",
              "      <th>0</th>\n",
              "      <td>12612628</td>\n",
              "      <td>Engineering Systems Analyst</td>\n",
              "      <td>Engineering Systems Analyst Dorking Surrey Salary ****K Our client is located in Dorking, Surrey and are looking for Engineering Systems Analyst our client provides specialist software development Keywords Mathematical Modelling, Risk Analysis, System Modelling, Optimisation, MISER, PIONEEER Engineering Systems Analyst Dorking Surrey Salary ****K</td>\n",
              "      <td>Dorking</td>\n",
              "      <td>NaN</td>\n",
              "      <td>permanent</td>\n",
              "      <td>Gregory Martin International</td>\n",
              "      <td>Engineering Jobs</td>\n",
              "      <td>25000</td>\n",
              "      <td>cv-library.co.uk</td>\n",
              "    </tr>\n",
              "    <tr>\n",
              "      <th>1</th>\n",
              "      <td>12612830</td>\n",
              "      <td>Stress Engineer Glasgow</td>\n",
              "      <td>Stress Engineer Glasgow Salary **** to **** We re currently looking for talented engineers to join our growing Glasgow team at a variety of levels. The roles are ideally suited to high calibre engineering graduates with any level of appropriate experience, so that we can give you the opportunity to use your technical skills to provide high quality input to our aerospace projects, spanning both aerostructures and aeroengines. In return, you can expect good career opportunities and the chance for advancement and personal and professional development, support while you gain Chartership and so...</td>\n",
              "      <td>Glasgow</td>\n",
              "      <td>NaN</td>\n",
              "      <td>permanent</td>\n",
              "      <td>Gregory Martin International</td>\n",
              "      <td>Engineering Jobs</td>\n",
              "      <td>30000</td>\n",
              "      <td>cv-library.co.uk</td>\n",
              "    </tr>\n",
              "    <tr>\n",
              "      <th>2</th>\n",
              "      <td>12612844</td>\n",
              "      <td>Modelling and simulation analyst</td>\n",
              "      <td>Mathematical Modeller / Simulation Analyst / Operational Analyst Basingstoke, Hampshire Up to ****K AAE pension contribution, private medical and dental The opportunity Our client is an independent consultancy firm which has an opportunity for a Data Analyst with 35 years experience. The role will require the successful candidate to demonstrate their ability to analyse a problem and arrive at a solution, with varying levels of data being available. Essential skills Thorough knowledge of Excel and proven ability to utilise this to create powerful decision support models Experience in Modell...</td>\n",
              "      <td>Hampshire</td>\n",
              "      <td>NaN</td>\n",
              "      <td>permanent</td>\n",
              "      <td>Gregory Martin International</td>\n",
              "      <td>Engineering Jobs</td>\n",
              "      <td>30000</td>\n",
              "      <td>cv-library.co.uk</td>\n",
              "    </tr>\n",
              "    <tr>\n",
              "      <th>3</th>\n",
              "      <td>12613049</td>\n",
              "      <td>Engineering Systems Analyst / Mathematical Modeller</td>\n",
              "      <td>Engineering Systems Analyst / Mathematical Modeller. Our client is a highly successful and respected Consultancy providing specialist software development MISER, PIONEER, Maths, Mathematical, Optimisation, Risk Analysis, Asset Management, Water Industry, Access, Excel, VBA, SQL, Systems . Engineering Systems Analyst / Mathematical Modeller. Salary  ****K****K negotiable Location Dorking, Surrey</td>\n",
              "      <td>Surrey</td>\n",
              "      <td>NaN</td>\n",
              "      <td>permanent</td>\n",
              "      <td>Gregory Martin International</td>\n",
              "      <td>Engineering Jobs</td>\n",
              "      <td>27500</td>\n",
              "      <td>cv-library.co.uk</td>\n",
              "    </tr>\n",
              "    <tr>\n",
              "      <th>4</th>\n",
              "      <td>12613647</td>\n",
              "      <td>Pioneer, Miser Engineering Systems Analyst</td>\n",
              "      <td>Pioneer, Miser  Engineering Systems Analyst Dorking  Surrey Salary ****K Located in Surrey, our client provides specialist software development Pioneer, Miser  Engineering Systems Analyst Dorking  Surrey Salary ****K</td>\n",
              "      <td>Surrey</td>\n",
              "      <td>NaN</td>\n",
              "      <td>permanent</td>\n",
              "      <td>Gregory Martin International</td>\n",
              "      <td>Engineering Jobs</td>\n",
              "      <td>25000</td>\n",
              "      <td>cv-library.co.uk</td>\n",
              "    </tr>\n",
              "  </tbody>\n",
              "</table>\n",
              "</div>"
            ],
            "text/plain": [
              "         Id  ...        SourceName\n",
              "0  12612628  ...  cv-library.co.uk\n",
              "1  12612830  ...  cv-library.co.uk\n",
              "2  12612844  ...  cv-library.co.uk\n",
              "3  12613049  ...  cv-library.co.uk\n",
              "4  12613647  ...  cv-library.co.uk\n",
              "\n",
              "[5 rows x 10 columns]"
            ]
          },
          "metadata": {
            "tags": []
          },
          "execution_count": 4
        }
      ]
    },
    {
      "cell_type": "code",
      "metadata": {
        "colab": {
          "base_uri": "https://localhost:8080/"
        },
        "id": "r5u3buBlpUIm",
        "outputId": "bea937d3-97e9-4c92-ab53-be9079402ba8"
      },
      "source": [
        "## ContractType and ContractTime features have a lot of missing values\r\n",
        "df.info()"
      ],
      "execution_count": 5,
      "outputs": [
        {
          "output_type": "stream",
          "text": [
            "<class 'pandas.core.frame.DataFrame'>\n",
            "RangeIndex: 244768 entries, 0 to 244767\n",
            "Data columns (total 10 columns):\n",
            " #   Column              Non-Null Count   Dtype \n",
            "---  ------              --------------   ----- \n",
            " 0   Id                  244768 non-null  int64 \n",
            " 1   Title               244767 non-null  object\n",
            " 2   FullDescription     244768 non-null  object\n",
            " 3   LocationNormalized  244768 non-null  object\n",
            " 4   ContractType        65442 non-null   object\n",
            " 5   ContractTime        180863 non-null  object\n",
            " 6   Company             212338 non-null  object\n",
            " 7   Category            244768 non-null  object\n",
            " 8   SalaryNormalized    244768 non-null  int64 \n",
            " 9   SourceName          244767 non-null  object\n",
            "dtypes: int64(2), object(8)\n",
            "memory usage: 18.7+ MB\n"
          ],
          "name": "stdout"
        }
      ]
    },
    {
      "cell_type": "code",
      "metadata": {
        "id": "w3CzeadgSt56"
      },
      "source": [
        "#hide\r\n",
        "# Fill the one missing Title field using info from FullDescription\r\n",
        "df.at[1588, 'Title'] = 'Quality Improvement Manager'"
      ],
      "execution_count": 6,
      "outputs": []
    },
    {
      "cell_type": "markdown",
      "metadata": {
        "id": "WcWv_11UJCMi"
      },
      "source": [
        "# Baseline Model\r\n",
        "First I test what level of accuracy we can expect on a baseline model so I have a benchmark to compare future models to and evaluate their relative performance.\r\n",
        "\r\n",
        "This baseline model predicts the salary of every record to be the average salary of the whole dataset.\r\n",
        "The Kaggle competition is judged using Mean Absolute Error (MAE), so that's what I'm using as my metric across all models\r\n",
        "###Baseline model produces a MAE of 13,399.6\r\n",
        "\r\n"
      ]
    },
    {
      "cell_type": "code",
      "metadata": {
        "colab": {
          "base_uri": "https://localhost:8080/"
        },
        "id": "cPFS0y7KQK_2",
        "outputId": "2aa6fd13-aadb-44ef-a8ab-e3af8d45476c"
      },
      "source": [
        "# Baseline Model\r\n",
        "baseline = np.ones(len(df['SalaryNormalized'])) * df['SalaryNormalized'].mean()\r\n",
        "mean_absolute_error(df['SalaryNormalized'], baseline)"
      ],
      "execution_count": 7,
      "outputs": [
        {
          "output_type": "execute_result",
          "data": {
            "text/plain": [
              "13399.57843160822"
            ]
          },
          "metadata": {
            "tags": []
          },
          "execution_count": 7
        }
      ]
    },
    {
      "cell_type": "markdown",
      "metadata": {
        "id": "ddXYvN5NjngT"
      },
      "source": [
        "Next I test what kind of accuracy can be achieved simply by feeding a model the raw data.\r\n",
        "\r\n",
        "I use a RandomForest because they consistently perform well on most datasets. Later on I will use a Neural Network as well.\r\n",
        "\r\n",
        "I'm using some features of the fast.ai library to encode categorical variables and easily arrange the data to feed into the models."
      ]
    },
    {
      "cell_type": "code",
      "metadata": {
        "id": "45-GAlmWMCoo"
      },
      "source": [
        "def splitter(df, split=0.2): ## Train/test splitting function\r\n",
        "  rand_idx = list(torch.randperm(len(df)).numpy())\r\n",
        "  cut = int(split * len(df))\r\n",
        "  return rand_idx[cut:],rand_idx[:cut]\r\n",
        "splits = splitter(df)\r\n",
        "\r\n",
        "procs = [Categorify] # Encodes the categorical features\r\n",
        "dep_var = 'SalaryNormalized' # Specify dependent variable\r\n",
        "cat_vars = ['Title', 'FullDescription', 'LocationNormalized', 'ContractType', 'ContractTime', 'Company', 'Category', 'SourceName']\r\n",
        "to = TabularPandas(df, procs, cat_vars, y_names = dep_var, splits=splits)\r\n",
        "\r\n",
        "xs, y = to.train.xs, to.train.y\r\n",
        "valid_xs, valid_y = to.valid.xs, to.valid.y"
      ],
      "execution_count": 8,
      "outputs": []
    },
    {
      "cell_type": "code",
      "metadata": {
        "id": "puCgMiRuLJy0"
      },
      "source": [
        "def forest(xs, y, n_estimators=40, max_samples=175_000, min_samples_leaf=5):\r\n",
        "  return RandomForestRegressor(n_estimators=n_estimators, max_samples=max_samples, min_samples_leaf=min_samples_leaf, oob_score=True).fit(xs, y)\r\n",
        "\r\n",
        "naive_model = forest(xs, y)\r\n",
        "naive_model_preds = naive_model.predict(xs)"
      ],
      "execution_count": 9,
      "outputs": []
    },
    {
      "cell_type": "code",
      "metadata": {
        "colab": {
          "base_uri": "https://localhost:8080/"
        },
        "id": "wsV_1pm0NmaO",
        "outputId": "884f3e9c-ad18-4452-d81d-b9f1236eb81a"
      },
      "source": [
        "#collapse-hide\r\n",
        "nm_train_score = mean_absolute_error(y, naive_model_preds)\r\n",
        "nm_valid_score = mean_absolute_error(valid_y, naive_model.predict(valid_xs))\r\n",
        "print('The Naive Model scored a MAE of {} on the training data and {} on the validation data.'.format(nm_train_score, nm_valid_score))"
      ],
      "execution_count": 10,
      "outputs": [
        {
          "output_type": "stream",
          "text": [
            "The Naive Model scored a MAE of 6249.058199242024 on the training data and 8584.078321490439 on the validation data.\n"
          ],
          "name": "stdout"
        }
      ]
    },
    {
      "cell_type": "markdown",
      "metadata": {
        "id": "ZN3Qeu-cmQda"
      },
      "source": [
        "### The RandomForest performed much better than the baseline model and has less than half the error rate when evaluated on the test set.\r\n",
        "\r\n",
        "### The cardinality of the ```Title``` feature is very high (135,436 unique values, which is about 55% of the dataset). This is because one job title, such as Systems Engineer, is represented in the dataset in many additional ways that don't carry much extra meaning or can be represented using other features (e.g. 'Systems Engineer London' or 'Engineering, Systems'). \r\n",
        "\r\n",
        "### To resolve this I will scrape the most common words from the job titles and assign them to each record. This should improve the model's accuracy by having considerably more records belonging to fewer, but much more predictively important titles such as Engineer, Teacher, Chef."
      ]
    },
    {
      "cell_type": "code",
      "metadata": {
        "colab": {
          "base_uri": "https://localhost:8080/"
        },
        "id": "Dy3AVeelmFDj",
        "outputId": "c7605b2d-d5fc-4a3a-8277-a974c34c0b71"
      },
      "source": [
        "df['Title'].nunique()"
      ],
      "execution_count": 11,
      "outputs": [
        {
          "output_type": "execute_result",
          "data": {
            "text/plain": [
              "135436"
            ]
          },
          "metadata": {
            "tags": []
          },
          "execution_count": 11
        }
      ]
    },
    {
      "cell_type": "code",
      "metadata": {
        "id": "-6dF3F7nmKNe"
      },
      "source": [
        "#collapse-hide\r\n",
        "# Counts the 500 most common words in the Title feature\r\n",
        "from collections import Counter\r\n",
        "job_word_dict = Counter(\" \".join(df[\"Title\"]).split()).most_common(600)\r\n",
        "job_word_dict"
      ],
      "execution_count": null,
      "outputs": []
    },
    {
      "cell_type": "code",
      "metadata": {
        "id": "_D-7eJxjmRO9"
      },
      "source": [
        "#collapse-hide\r\n",
        "# This cell cleans up the job_word_dict by removing non-alphanumeric entries and some 'joining' words\r\n",
        "for i in job_word_dict:\r\n",
        "  if not i[0].isalnum():\r\n",
        "    job_word_dict.remove(i)\r\n",
        "\r\n",
        "trash_words = ['and', 'or', 'in', 'of', 'to', 'for', 'with'] # I decided to remove these 'joining' words and keep more informative words such as Engineer or Teacher\r\n",
        "for word in trash_words:\r\n",
        "  for tup in job_word_dict:\r\n",
        "    if tup[0].lower() == word.lower():\r\n",
        "      job_word_dict.remove(tup)"
      ],
      "execution_count": 13,
      "outputs": []
    },
    {
      "cell_type": "markdown",
      "metadata": {
        "id": "DLi_eG4z0okU"
      },
      "source": [
        "The 15 most common words in the job titles are shown below. 'London' has made the list which means locations are fairly prevalent in the job title. However since I already have a location feature, I will remove them from this list.\r\n",
        "\r\n",
        "You can also see that positions of seniority (e.g. Manager, Senior, Executive) are also very common. After experimenting with a few different combinations of features on different models, I found that splitting position seniority out into it's own feature improved the accuracy. This makes sense intuitively that having one feature to describe the role (Electrical Engineer, Software Developer) and another feature to adjust each roles seniority level would yield better results."
      ]
    },
    {
      "cell_type": "code",
      "metadata": {
        "colab": {
          "base_uri": "https://localhost:8080/"
        },
        "id": "dTyQnbGA0epY",
        "outputId": "16a6e12d-d730-40a7-ae2c-e25cc2058029"
      },
      "source": [
        "job_word_dict[:15]"
      ],
      "execution_count": 14,
      "outputs": [
        {
          "output_type": "execute_result",
          "data": {
            "text/plain": [
              "[('Manager', 45109),\n",
              " ('Engineer', 22161),\n",
              " ('Sales', 17096),\n",
              " ('Senior', 15925),\n",
              " ('Developer', 11914),\n",
              " ('Assistant', 10995),\n",
              " ('Business', 9296),\n",
              " ('Executive', 8954),\n",
              " ('Analyst', 8387),\n",
              " ('Consultant', 8153),\n",
              " ('London', 8073),\n",
              " ('Support', 7729),\n",
              " ('Project', 6814),\n",
              " ('Nurse', 6440),\n",
              " ('Development', 6396)]"
            ]
          },
          "metadata": {
            "tags": []
          },
          "execution_count": 14
        }
      ]
    },
    {
      "cell_type": "code",
      "metadata": {
        "id": "SUj9imCAmmL9"
      },
      "source": [
        "#collapse-hide\r\n",
        "# This cell removes position seniority level words from the job_word_dict\r\n",
        "seniority_level = ['Manager', 'Senior', 'Assistant', 'Executive', 'Advisor', 'Worker', 'Head', 'Graduate', 'Lead', 'Coordinator', 'Director', 'Leader', 'Supervisor', 'Junior', 'Trainee', 'Deputy']\r\n",
        "\r\n",
        "job_words = []\r\n",
        "for tup in job_word_dict:\r\n",
        "  job_words.append(tup[0])\r\n",
        "\r\n",
        "for word in job_words:\r\n",
        "  for position in seniority_level:\r\n",
        "    if word.lower() == position.lower():\r\n",
        "      job_words.remove(word)\r\n",
        "      print('Removed {}'.format(word))\r\n"
      ],
      "execution_count": null,
      "outputs": []
    },
    {
      "cell_type": "code",
      "metadata": {
        "id": "e7IMGdXkgQUd"
      },
      "source": [
        "#collapse-hide\r\n",
        "location_list = list(df['LocationNormalized'].value_counts().index)\r\n",
        "for word in job_words:\r\n",
        "  for location in location_list:\r\n",
        "    if word.lower() == location.lower():\r\n",
        "      job_words.remove(word)\r\n",
        "      print('Removed {}'.format(word))\r\n"
      ],
      "execution_count": null,
      "outputs": []
    },
    {
      "cell_type": "code",
      "metadata": {
        "id": "84Us2VJvqBX8"
      },
      "source": [
        "def findWholeWord(w):\r\n",
        "    return re.compile(r'\\b({0})\\b'.format(w), flags=re.IGNORECASE).search\r\n",
        "\r\n",
        "def map_function(x):\r\n",
        "    result = []\r\n",
        "    for key in seniority_level:\r\n",
        "        if findWholeWord(key)(x):\r\n",
        "          match = findWholeWord(key)(x)\r\n",
        "          if match.group().lower() not in result:\r\n",
        "            result.append(match.group().lower())\r\n",
        "        else:\r\n",
        "          continue\r\n",
        "    return ' '.join(result)\r\n",
        "\r\n",
        "df['seniority'] = df.Title.apply(map_function)"
      ],
      "execution_count": 19,
      "outputs": []
    },
    {
      "cell_type": "markdown",
      "metadata": {
        "id": "qGggOs3z42BE"
      },
      "source": [
        "###Ten most common seniority positions in the data"
      ]
    },
    {
      "cell_type": "code",
      "metadata": {
        "colab": {
          "base_uri": "https://localhost:8080/"
        },
        "id": "UgbOOiuUqLP0",
        "outputId": "4b3ce8f9-427e-4b3d-98f9-c35946ac42a9"
      },
      "source": [
        "df['seniority'].value_counts().head(10)"
      ],
      "execution_count": 20,
      "outputs": [
        {
          "output_type": "execute_result",
          "data": {
            "text/plain": [
              "                     134846\n",
              "manager               40354\n",
              "senior                12374\n",
              "assistant              8360\n",
              "executive              8156\n",
              "advisor                4088\n",
              "worker                 3493\n",
              "head                   3420\n",
              "coordinator            2790\n",
              "manager assistant      2619\n",
              "Name: seniority, dtype: int64"
            ]
          },
          "metadata": {
            "tags": []
          },
          "execution_count": 20
        }
      ]
    },
    {
      "cell_type": "code",
      "metadata": {
        "id": "FxMKW8oUqXYP"
      },
      "source": [
        "def map_function(x):\r\n",
        "    result = []\r\n",
        "    for word in job_words:\r\n",
        "        if findWholeWord(word)(x):\r\n",
        "          match = findWholeWord(word)(x)\r\n",
        "          if match.group().lower() not in result:\r\n",
        "            result.append(match.group().lower())\r\n",
        "        else:\r\n",
        "          continue\r\n",
        "    return ' '.join(result)\r\n",
        "\r\n",
        "df['job_words'] = df.Title.apply(map_function)"
      ],
      "execution_count": 21,
      "outputs": []
    },
    {
      "cell_type": "markdown",
      "metadata": {
        "id": "ooyrzd024_mp"
      },
      "source": [
        "### 15 most common job word combinations in the data"
      ]
    },
    {
      "cell_type": "code",
      "metadata": {
        "colab": {
          "base_uri": "https://localhost:8080/"
        },
        "id": "NLCW-QH2qYpl",
        "outputId": "dbb55fb8-9a08-4615-c3c6-ef9861fc1e29"
      },
      "source": [
        "df['job_words'].value_counts().head(15)"
      ],
      "execution_count": 22,
      "outputs": [
        {
          "output_type": "execute_result",
          "data": {
            "text/plain": [
              "                          13022\n",
              "sales                      3065\n",
              "engineer                   2018\n",
              "project                    1818\n",
              "business development       1808\n",
              "account                    1448\n",
              "marketing                  1251\n",
              "consultant recruitment     1192\n",
              "administrator              1054\n",
              "developer                  1027\n",
              "finance                    1019\n",
              "teacher                     942\n",
              "accountant management       919\n",
              "care                        871\n",
              "surveyor quantity           856\n",
              "Name: job_words, dtype: int64"
            ]
          },
          "metadata": {
            "tags": []
          },
          "execution_count": 22
        }
      ]
    },
    {
      "cell_type": "markdown",
      "metadata": {
        "id": "kXdCZbYF5Kh8"
      },
      "source": [
        "### Prepare the data and load it into the RandomForest model"
      ]
    },
    {
      "cell_type": "code",
      "metadata": {
        "id": "7pCvpvbsSzAz"
      },
      "source": [
        "procs = [Categorify]\r\n",
        "dep_var = 'SalaryNormalized'\r\n",
        "cat_vars = ['LocationNormalized', 'ContractType', 'ContractTime', 'Category', 'Company', 'SourceName', 'seniority', 'job_words']\r\n",
        "to = TabularPandas(df, procs, cat_vars, y_names = dep_var, splits=splits)\r\n",
        "xs, y = to.train.xs, to.train.y\r\n",
        "valid_xs, valid_y = to.valid.xs, to.valid.y\r\n",
        "\r\n",
        "rf_model = forest(xs, y);"
      ],
      "execution_count": 23,
      "outputs": []
    },
    {
      "cell_type": "code",
      "metadata": {
        "colab": {
          "base_uri": "https://localhost:8080/"
        },
        "id": "7rbBE0xIS5_o",
        "outputId": "af1c78b7-3dc4-4141-c82d-4e8648f3733b"
      },
      "source": [
        "#collapse-hide\r\n",
        "forest_preds = rf_model.predict(xs)\r\n",
        "rf_train_score = mean_absolute_error(y, forest_preds)\r\n",
        "valid_preds = rf_model.predict(valid_xs)\r\n",
        "rf_valid_score = mean_absolute_error(valid_y, valid_preds)\r\n",
        "print('The Feature Engineered Model scored a MAE of {} on the training data and {} on the validation data.'.format(rf_train_score, rf_valid_score))"
      ],
      "execution_count": 24,
      "outputs": [
        {
          "output_type": "stream",
          "text": [
            "The Feature Engineered Model scored a MAE of 5736.43454654603 on the training data and 7574.226276235397 on the validation data.\n"
          ],
          "name": "stdout"
        }
      ]
    },
    {
      "cell_type": "markdown",
      "metadata": {
        "id": "OsyuSQbG5aLr"
      },
      "source": [
        "The model has a MAE of 7574.2 on the validation set compared to a MAE of 8,584.1 that we received from feeding the model the raw data. So the feature engineering has produced an improvement to the models prediction accuracy.\r\n",
        "\r\n",
        "Below I plot the average accuracy of the 40 estimators (trees) that make up the random forest. Starting with one estimator and moving to the average of all 40 we can see how combinations of estimators with different uncorrelated errors in aggregate produce a better accuracy. \r\n",
        "\r\n",
        "The graph also shows the diminishing return of adding extra estimators and that moving past 40 will not have much further impact for accuracy."
      ]
    },
    {
      "cell_type": "code",
      "metadata": {
        "colab": {
          "base_uri": "https://localhost:8080/",
          "height": 265
        },
        "id": "jbPE5wJkuUQh",
        "outputId": "278e0ee8-1e67-4db6-9984-a2fcf1a8f6ab"
      },
      "source": [
        "# Graph to see whether more estimators would help. It seems clear that adding more estimators to the forest would not help accuracy\r\n",
        "preds = np.stack([t.predict(valid_xs) for t in rf_model.estimators_])\r\n",
        "plt.plot([mean_squared_error(preds[:i+1].mean(0), valid_y, squared=False) for i in range(40)]);"
      ],
      "execution_count": 25,
      "outputs": [
        {
          "output_type": "display_data",
          "data": {
            "image/png": "[encoded data removed]",
            "text/plain": [
              "<Figure size 432x288 with 1 Axes>"
            ]
          },
          "metadata": {
            "tags": [],
            "needs_background": "light"
          }
        }
      ]
    },
    {
      "cell_type": "markdown",
      "metadata": {
        "id": "k-vR6Sizt4qs"
      },
      "source": [
        "The table below shows which features have the most impact on the model's accuracy. We can see that the 2 engineered features have the most importance.\r\n",
        "  \r\n",
        "```ContractType``` is at the bottom and not an important feature to the model. This feature is binary and tells us whether a job is full or part time. However it has a huge amount of missing values which is probably why it does not yield much predictive power and can probably be removed without much loss to accuracy."
      ]
    },
    {
      "cell_type": "code",
      "metadata": {
        "colab": {
          "base_uri": "https://localhost:8080/",
          "height": 277
        },
        "id": "55G3pKIeQ5ec",
        "outputId": "5730e973-4f82-4b62-fef7-6ec2ee249295"
      },
      "source": [
        "def rf_feat_importance(m, df):\r\n",
        "    return pd.DataFrame({'cols':df.columns, 'imp':m.feature_importances_}\r\n",
        "                       ).sort_values('imp', ascending=False)\r\n",
        "\r\n",
        "fi = rf_feat_importance(rf_model, xs)\r\n",
        "fi"
      ],
      "execution_count": 26,
      "outputs": [
        {
          "output_type": "execute_result",
          "data": {
            "text/html": [
              "<div>\n",
              "<style scoped>\n",
              "    .dataframe tbody tr th:only-of-type {\n",
              "        vertical-align: middle;\n",
              "    }\n",
              "\n",
              "    .dataframe tbody tr th {\n",
              "        vertical-align: top;\n",
              "    }\n",
              "\n",
              "    .dataframe thead th {\n",
              "        text-align: right;\n",
              "    }\n",
              "</style>\n",
              "<table border=\"1\" class=\"dataframe\">\n",
              "  <thead>\n",
              "    <tr style=\"text-align: right;\">\n",
              "      <th></th>\n",
              "      <th>cols</th>\n",
              "      <th>imp</th>\n",
              "    </tr>\n",
              "  </thead>\n",
              "  <tbody>\n",
              "    <tr>\n",
              "      <th>7</th>\n",
              "      <td>job_words</td>\n",
              "      <td>0.256270</td>\n",
              "    </tr>\n",
              "    <tr>\n",
              "      <th>6</th>\n",
              "      <td>seniority</td>\n",
              "      <td>0.199424</td>\n",
              "    </tr>\n",
              "    <tr>\n",
              "      <th>3</th>\n",
              "      <td>Category</td>\n",
              "      <td>0.156270</td>\n",
              "    </tr>\n",
              "    <tr>\n",
              "      <th>5</th>\n",
              "      <td>SourceName</td>\n",
              "      <td>0.133602</td>\n",
              "    </tr>\n",
              "    <tr>\n",
              "      <th>4</th>\n",
              "      <td>Company</td>\n",
              "      <td>0.096062</td>\n",
              "    </tr>\n",
              "    <tr>\n",
              "      <th>0</th>\n",
              "      <td>LocationNormalized</td>\n",
              "      <td>0.081501</td>\n",
              "    </tr>\n",
              "    <tr>\n",
              "      <th>2</th>\n",
              "      <td>ContractTime</td>\n",
              "      <td>0.065240</td>\n",
              "    </tr>\n",
              "    <tr>\n",
              "      <th>1</th>\n",
              "      <td>ContractType</td>\n",
              "      <td>0.011631</td>\n",
              "    </tr>\n",
              "  </tbody>\n",
              "</table>\n",
              "</div>"
            ],
            "text/plain": [
              "                 cols       imp\n",
              "7           job_words  0.256270\n",
              "6           seniority  0.199424\n",
              "3            Category  0.156270\n",
              "5          SourceName  0.133602\n",
              "4             Company  0.096062\n",
              "0  LocationNormalized  0.081501\n",
              "2        ContractTime  0.065240\n",
              "1        ContractType  0.011631"
            ]
          },
          "metadata": {
            "tags": []
          },
          "execution_count": 26
        }
      ]
    },
    {
      "cell_type": "markdown",
      "metadata": {
        "id": "VQVT766ku67k"
      },
      "source": [
        "### Run the model again without the ContractType feature since it has very low feature importance.\r\n",
        "\r\n",
        "### The accuracy of the model actually slightly improves on the validation set after removing this feature"
      ]
    },
    {
      "cell_type": "code",
      "metadata": {
        "colab": {
          "base_uri": "https://localhost:8080/"
        },
        "id": "DDfcaUDUuuPC",
        "outputId": "af888c46-4135-43ca-a9e4-b34ed73240fb"
      },
      "source": [
        "#collapse-hide\r\n",
        "cat_vars = ['LocationNormalized', 'ContractTime', 'Category', 'Company', 'SourceName', 'seniority', 'job_words'] # Removed ContractType\r\n",
        "to = TabularPandas(df, procs, cat_vars, y_names = dep_var, splits=splits)\r\n",
        "xs, y = to.train.xs, to.train.y\r\n",
        "valid_xs, valid_y = to.valid.xs, to.valid.y\r\n",
        "\r\n",
        "rf_model = forest(xs, y);\r\n",
        "\r\n",
        "forest_preds = rf_model.predict(xs)\r\n",
        "rf_train_score = mean_absolute_error(y, forest_preds)\r\n",
        "valid_preds = rf_model.predict(valid_xs)\r\n",
        "rf_valid_score = mean_absolute_error(valid_y, valid_preds)\r\n",
        "print('The Feature Engineered Model scored a MAE of {} on the training data and {} on the validation data.'.format(rf_train_score, rf_valid_score))"
      ],
      "execution_count": 27,
      "outputs": [
        {
          "output_type": "stream",
          "text": [
            "The Feature Engineered Model scored a MAE of 5755.869472062523 on the training data and 7582.1264663855745 on the validation data.\n"
          ],
          "name": "stdout"
        }
      ]
    },
    {
      "cell_type": "code",
      "metadata": {
        "colab": {
          "base_uri": "https://localhost:8080/",
          "height": 248
        },
        "id": "iq0FlbmOvLdS",
        "outputId": "238b7a0e-ff06-4a2c-f482-64eb562edf3d"
      },
      "source": [
        "fi = rf_feat_importance(rf_model, xs)\r\n",
        "fi"
      ],
      "execution_count": 28,
      "outputs": [
        {
          "output_type": "execute_result",
          "data": {
            "text/html": [
              "<div>\n",
              "<style scoped>\n",
              "    .dataframe tbody tr th:only-of-type {\n",
              "        vertical-align: middle;\n",
              "    }\n",
              "\n",
              "    .dataframe tbody tr th {\n",
              "        vertical-align: top;\n",
              "    }\n",
              "\n",
              "    .dataframe thead th {\n",
              "        text-align: right;\n",
              "    }\n",
              "</style>\n",
              "<table border=\"1\" class=\"dataframe\">\n",
              "  <thead>\n",
              "    <tr style=\"text-align: right;\">\n",
              "      <th></th>\n",
              "      <th>cols</th>\n",
              "      <th>imp</th>\n",
              "    </tr>\n",
              "  </thead>\n",
              "  <tbody>\n",
              "    <tr>\n",
              "      <th>6</th>\n",
              "      <td>job_words</td>\n",
              "      <td>0.258271</td>\n",
              "    </tr>\n",
              "    <tr>\n",
              "      <th>5</th>\n",
              "      <td>seniority</td>\n",
              "      <td>0.197063</td>\n",
              "    </tr>\n",
              "    <tr>\n",
              "      <th>2</th>\n",
              "      <td>Category</td>\n",
              "      <td>0.155387</td>\n",
              "    </tr>\n",
              "    <tr>\n",
              "      <th>4</th>\n",
              "      <td>SourceName</td>\n",
              "      <td>0.142651</td>\n",
              "    </tr>\n",
              "    <tr>\n",
              "      <th>3</th>\n",
              "      <td>Company</td>\n",
              "      <td>0.098565</td>\n",
              "    </tr>\n",
              "    <tr>\n",
              "      <th>0</th>\n",
              "      <td>LocationNormalized</td>\n",
              "      <td>0.082658</td>\n",
              "    </tr>\n",
              "    <tr>\n",
              "      <th>1</th>\n",
              "      <td>ContractTime</td>\n",
              "      <td>0.065404</td>\n",
              "    </tr>\n",
              "  </tbody>\n",
              "</table>\n",
              "</div>"
            ],
            "text/plain": [
              "                 cols       imp\n",
              "6           job_words  0.258271\n",
              "5           seniority  0.197063\n",
              "2            Category  0.155387\n",
              "4          SourceName  0.142651\n",
              "3             Company  0.098565\n",
              "0  LocationNormalized  0.082658\n",
              "1        ContractTime  0.065404"
            ]
          },
          "metadata": {
            "tags": []
          },
          "execution_count": 28
        }
      ]
    },
    {
      "cell_type": "code",
      "metadata": {
        "id": "XHS4b3kB8Kt7"
      },
      "source": [
        "#hide\r\n",
        "# This cell creates a job words feature in the DataFrame. This feature contains any words from the 500 most common Title words associated with a record\r\n",
        "def map_function(x):\r\n",
        "    for word in job_words:\r\n",
        "        if findWholeWord(word)(x):\r\n",
        "          match = findWholeWord(word)(x)\r\n",
        "          return match.group().lower()\r\n",
        "\r\n",
        "\r\n",
        "df['jword_primary'] = df.Title.apply(map_function)"
      ],
      "execution_count": 46,
      "outputs": []
    },
    {
      "cell_type": "code",
      "metadata": {
        "id": "1RHi3p8r8PR1"
      },
      "source": [
        "#hide\r\n",
        "# This cell creates a job words feature in the DataFrame. This feature contains any words from the 500 most common Title words associated with a record\r\n",
        "def map_function(x):\r\n",
        "    for word in job_words:\r\n",
        "        if findWholeWord(word)(x['Title']):\r\n",
        "          match = findWholeWord(word)(x['Title'])\r\n",
        "          if match.group().lower() not in x['jword_primrary']:\r\n",
        "            return match.group().lower()\r\n",
        "\r\n",
        "\r\n",
        "df['jword_secondary'] = df.loc[:, ['Title', 'jword_primrary']].apply(map_function, axis=1)"
      ],
      "execution_count": 47,
      "outputs": []
    },
    {
      "cell_type": "code",
      "metadata": {
        "id": "-ORnBjL98R5m"
      },
      "source": [
        "#hide\r\n",
        "# This cell creates a job words feature in the DataFrame. This feature contains any words from the 500 most common Title words associated with a record\r\n",
        "def map_function(x):\r\n",
        "    for word in job_words:\r\n",
        "        if findWholeWord(word)(x['Title']):\r\n",
        "          match = findWholeWord(word)(x['Title'])\r\n",
        "          if match.group().lower() not in x['jword_primrary'] and match.group().lower() not in x['jword_secondary']:\r\n",
        "            return match.group().lower()\r\n",
        "\r\n",
        "\r\n",
        "df['jword_tertiary'] = df.loc[:, ['Title', 'jword_primrary', 'jword_secondary']].apply(map_function, axis=1)"
      ],
      "execution_count": 48,
      "outputs": []
    },
    {
      "cell_type": "markdown",
      "metadata": {
        "id": "4L3tsG01sjeU"
      },
      "source": [
        "# Neural Network\r\n",
        "\r\n",
        "### Along with RandomForest, Neural Networks consistently achieve good results on most datasets. \r\n",
        "\r\n",
        "### Using the fast.ai library I can use the work I have already done cleaning and transforming the data and quickly train a neural net."
      ]
    },
    {
      "cell_type": "code",
      "metadata": {
        "colab": {
          "base_uri": "https://localhost:8080/"
        },
        "id": "Gn2n0XBdsi5l",
        "outputId": "6469d873-baec-4d2f-9afc-74301877bbe7"
      },
      "source": [
        "df['SalaryNormalized'] = df['SalaryNormalized'].astype(np.float32)\r\n",
        "dls = to.dataloaders(1024)\r\n",
        "y = to.train.y\r\n",
        "y.min(),y.max()"
      ],
      "execution_count": 29,
      "outputs": [
        {
          "output_type": "execute_result",
          "data": {
            "text/plain": [
              "(5000, 200000)"
            ]
          },
          "metadata": {
            "tags": []
          },
          "execution_count": 29
        }
      ]
    },
    {
      "cell_type": "code",
      "metadata": {
        "colab": {
          "base_uri": "https://localhost:8080/",
          "height": 300
        },
        "id": "NZW4WK7Espwb",
        "outputId": "676a6e97-927e-45c6-b776-4f34d2160e60"
      },
      "source": [
        "# Create neural net with MAE as the loss function and find the best learning rate for fitting the model. Picking a learning rate where this curve is steepest is usually the best for training the model.\r\n",
        "learn = tabular_learner(dls, y_range=(4900,210000), layers=[500,250],\r\n",
        "                        n_out=1, loss_func=mae)\r\n",
        "learn.lr_find()"
      ],
      "execution_count": 30,
      "outputs": [
        {
          "output_type": "display_data",
          "data": {
            "text/html": [
              ""
            ],
            "text/plain": [
              "<IPython.core.display.HTML object>"
            ]
          },
          "metadata": {
            "tags": []
          }
        },
        {
          "output_type": "execute_result",
          "data": {
            "text/plain": [
              "SuggestedLRs(lr_min=0.33113112449646, lr_steep=0.0008317637839354575)"
            ]
          },
          "metadata": {
            "tags": []
          },
          "execution_count": 30
        },
        {
          "output_type": "display_data",
          "data": {
            "image/png": "[encoded data removed]",
            "text/plain": [
              "<Figure size 432x288 with 1 Axes>"
            ]
          },
          "metadata": {
            "tags": [],
            "needs_background": "light"
          }
        }
      ]
    },
    {
      "cell_type": "markdown",
      "metadata": {
        "id": "gukTo8f3HTP4"
      },
      "source": [
        "### The neural net scores considerably better than the RandomForest with a MAE of 6,230 compared to 7,625 from the best forest model"
      ]
    },
    {
      "cell_type": "code",
      "metadata": {
        "colab": {
          "base_uri": "https://localhost:8080/",
          "height": 334
        },
        "id": "uG0_dzrJtsuO",
        "outputId": "0c422d00-c289-44cc-828c-fdd6a528836f"
      },
      "source": [
        "# Fit the model for 10 epochs at a specified learning rate\r\n",
        "learn.fit_one_cycle(10, 7e-4)"
      ],
      "execution_count": 31,
      "outputs": [
        {
          "output_type": "display_data",
          "data": {
            "text/html": [
              "<table border=\"1\" class=\"dataframe\">\n",
              "  <thead>\n",
              "    <tr style=\"text-align: left;\">\n",
              "      <th>epoch</th>\n",
              "      <th>train_loss</th>\n",
              "      <th>valid_loss</th>\n",
              "      <th>time</th>\n",
              "    </tr>\n",
              "  </thead>\n",
              "  <tbody>\n",
              "    <tr>\n",
              "      <td>0</td>\n",
              "      <td>12463.211914</td>\n",
              "      <td>8360.904297</td>\n",
              "      <td>00:06</td>\n",
              "    </tr>\n",
              "    <tr>\n",
              "      <td>1</td>\n",
              "      <td>7432.699707</td>\n",
              "      <td>7629.067383</td>\n",
              "      <td>00:06</td>\n",
              "    </tr>\n",
              "    <tr>\n",
              "      <td>2</td>\n",
              "      <td>6397.468750</td>\n",
              "      <td>7158.133301</td>\n",
              "      <td>00:06</td>\n",
              "    </tr>\n",
              "    <tr>\n",
              "      <td>3</td>\n",
              "      <td>5603.918457</td>\n",
              "      <td>6947.498047</td>\n",
              "      <td>00:06</td>\n",
              "    </tr>\n",
              "    <tr>\n",
              "      <td>4</td>\n",
              "      <td>4933.529297</td>\n",
              "      <td>6681.348145</td>\n",
              "      <td>00:06</td>\n",
              "    </tr>\n",
              "    <tr>\n",
              "      <td>5</td>\n",
              "      <td>4315.979492</td>\n",
              "      <td>6506.173340</td>\n",
              "      <td>00:06</td>\n",
              "    </tr>\n",
              "    <tr>\n",
              "      <td>6</td>\n",
              "      <td>3694.033691</td>\n",
              "      <td>6318.576172</td>\n",
              "      <td>00:06</td>\n",
              "    </tr>\n",
              "    <tr>\n",
              "      <td>7</td>\n",
              "      <td>3117.943604</td>\n",
              "      <td>6236.548340</td>\n",
              "      <td>00:06</td>\n",
              "    </tr>\n",
              "    <tr>\n",
              "      <td>8</td>\n",
              "      <td>2581.269043</td>\n",
              "      <td>6193.021973</td>\n",
              "      <td>00:06</td>\n",
              "    </tr>\n",
              "    <tr>\n",
              "      <td>9</td>\n",
              "      <td>2283.618896</td>\n",
              "      <td>6186.819824</td>\n",
              "      <td>00:06</td>\n",
              "    </tr>\n",
              "  </tbody>\n",
              "</table>"
            ],
            "text/plain": [
              "<IPython.core.display.HTML object>"
            ]
          },
          "metadata": {
            "tags": []
          }
        }
      ]
    },
    {
      "cell_type": "markdown",
      "metadata": {
        "id": "jHFdqeVe327j"
      },
      "source": [
        "# Ensembling\r\n",
        "Lastly I check to see if ensembling the two models will produce better results. By calculating predictions using both models and taking an average, we hope the errors in one model are uncorrelated with the errors in the other and we gain an improvement in the overall performance.\r\n",
        "\r\n",
        "However the ensemble MAE ends up being 6,451.8 compared to the neural net's MAE of 6,186.8. I think the neural network is just too much better than the forest in this case."
      ]
    },
    {
      "cell_type": "code",
      "metadata": {
        "colab": {
          "base_uri": "https://localhost:8080/",
          "height": 33
        },
        "id": "hY_uD8ZpvcA2",
        "outputId": "a1e91ce9-2703-4a2b-d4c1-be35cdc6055f"
      },
      "source": [
        "# Take the average of the random forest and neural net predictions\r\n",
        "nn_preds, targs = learn.get_preds()\r\n",
        "ensemble_preds = (to_np(nn_preds.squeeze()) + valid_preds) /2\r\n",
        "mean_absolute_error(valid_y, ensemble_preds)"
      ],
      "execution_count": 32,
      "outputs": [
        {
          "output_type": "display_data",
          "data": {
            "text/html": [
              ""
            ],
            "text/plain": [
              "<IPython.core.display.HTML object>"
            ]
          },
          "metadata": {
            "tags": []
          }
        },
        {
          "output_type": "execute_result",
          "data": {
            "text/plain": [
              "6451.840949855289"
            ]
          },
          "metadata": {
            "tags": []
          },
          "execution_count": 32
        }
      ]
    },
    {
      "cell_type": "markdown",
      "metadata": {
        "id": "y6u9Wv1VKIgN"
      },
      "source": [
        "# Conclusion\r\n",
        "\r\n",
        "So on average the best model predicts salaries with an error of $6,186.8 which is a great improvement over the baseline model and has improved by over 2,000 compared to the first model I built.\r\n",
        "\r\n",
        "Considering a lot of jobs will advertise salaries within a band of sometimes $10,000 or greater and that the same job is often advertised at different rates, I think this level of error is pretty good for the task."
      ]
    },
    {
      "cell_type": "markdown",
      "metadata": {
        "id": "w3kVL5aL4bsZ"
      },
      "source": [
        "### There is potentially room to improve the model further by:\r\n",
        "\r\n",
        "\r\n",
        "*   Improving the ```seniority``` and ```job_words``` features\r\n",
        "*   Looking to mine some useful data from the FullDescription feature\r\n",
        "*   Looking at ways to fill missing values in ```ContractType``` and ```ContractTime```\r\n",
        "*   Cleaning up the ```LocationNormalized``` feature a bit\r\n",
        "*   Testing on more models and potentially ensembling more\r\n",
        "\r\n",
        "\r\n",
        "\r\n",
        "\r\n",
        "\r\n",
        "\r\n"
      ]
    },
    {
      "cell_type": "code",
      "metadata": {
        "colab": {
          "base_uri": "https://localhost:8080/"
        },
        "id": "OoETVmc6hpGr",
        "outputId": "8547b61b-9ab5-46cc-e5e0-984eeaa482f3"
      },
      "source": [
        "#hide\r\n",
        "count_1 = 0\r\n",
        "count_2 = 0\r\n",
        "count_3 = 0\r\n",
        "count_4 = 0\r\n",
        "\r\n",
        "for i in df['job_words'].value_counts().index:\r\n",
        "  temp = i.split(' ')\r\n",
        "  if len(temp) == 1:\r\n",
        "    count_1 += 1\r\n",
        "    continue\r\n",
        "  if len(temp) == 2:\r\n",
        "    count_2 +=1\r\n",
        "    continue\r\n",
        "  if len(temp) == 3:\r\n",
        "    count_3 +=1\r\n",
        "    continue\r\n",
        "  if len(temp) == 4:\r\n",
        "    count_4 +=1\r\n",
        "    continue\r\n",
        "\r\n",
        "  \r\n",
        "count_1, count_2, count_3, count_4"
      ],
      "execution_count": 79,
      "outputs": [
        {
          "output_type": "execute_result",
          "data": {
            "text/plain": [
              "(391, 9166, 16345, 11869)"
            ]
          },
          "metadata": {
            "tags": []
          },
          "execution_count": 79
        }
      ]
    }
  ]
}